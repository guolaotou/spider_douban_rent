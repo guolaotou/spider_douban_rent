{
 "cells": [
  {
   "cell_type": "code",
   "execution_count": 1,
   "metadata": {
    "collapsed": true
   },
   "outputs": [],
   "source": [
    "import requests\n",
    "from bs4 import BeautifulSoup\n",
    "import json"
   ]
  },
  {
   "cell_type": "code",
   "execution_count": 8,
   "metadata": {
    "collapsed": true
   },
   "outputs": [],
   "source": [
    "\n",
    "class Splider_douban():\n",
    "    def __init__(self, url=\"https://www.douban.com/group/279962/discussion?start=\"):\n",
    "        self.url = url\n",
    "        # self.url = \"https://www.douban.com/group/625354/discussion?start=\"  # 后面加offset\n",
    "        # self.url = \"https://www.douban.com/group/beijingzufang/discussion?start=\"\n",
    "        self.offset = 25\n",
    "        self.enough_data = None\n",
    "\n",
    "    def _get_html_by_url(self, offset):\n",
    "        \"\"\"\n",
    "        通过指定url得到25条原始数据\n",
    "        :return:\n",
    "        \"\"\"\n",
    "        htmlData = requests.get(self.url+str(offset)).text\n",
    "        soup = BeautifulSoup(htmlData, \"lxml\")\n",
    "        raw25 = soup.find(\"table\", attrs={\"class\": \"olt\"}).select(\"a\")\n",
    "        return raw25\n",
    "\n",
    "    def get_enough_data(self, page_num=100, page_begin=0):\n",
    "        \"\"\"\n",
    "        循环调用_get_html_by_url，制造足够数据集\n",
    "        page_begin int:\n",
    "            可选\n",
    "        :return:\n",
    "        \"\"\"\n",
    "        print(\"1. get_enough_data ing...\")\n",
    "        lt = []\n",
    "        for i in range(page_begin, page_begin + page_num + 1):\n",
    "            lt.extend(self._get_html_by_url(i * self.offset))\n",
    "            print(\"进度： %d / %d\" % (i - page_begin, page_num))\n",
    "        self.enough_data = lt\n",
    "        print(\"\\n\")\n",
    "        return lt\n",
    "\n",
    "    def get_url_title(self, raw_data):\n",
    "        \"\"\"\n",
    "        处理数据，得到url和title\n",
    "        :return:\n",
    "        \"\"\"\n",
    "        print(\"2. get_url_title ing...\\n\")\n",
    "        lt_url_title = []\n",
    "        for _ in raw_data:\n",
    "            lt_url_title.append({\"url\": _.get(\"href\"), \"title\": _.get(\"title\")})\n",
    "        return lt_url_title\n",
    "\n",
    "    def get_data_by_loc(self, data, loc=\"五道口\"):\n",
    "        \"\"\"\n",
    "        根据指定地点，筛选只具有该地点的数据\n",
    "        :param data:\n",
    "        :param loc:\n",
    "        :return:\n",
    "        \"\"\"\n",
    "        print(\"3. get_data_by_loc ing...\\n\")\n",
    "        res = []\n",
    "        for _ in data:\n",
    "            title = _.get(\"title\")\n",
    "            if title is None:\n",
    "                continue\n",
    "            if loc in _.get(\"title\"):\n",
    "                res.append(_)\n",
    "        return res\n",
    "\n",
    "    def save2file(self, data):\n",
    "        json_type = json.dumps(data)\n",
    "        with open(\"res_data.txt\", \"w\") as f:\n",
    "            f.write(json_type)"
   ]
  },
  {
   "cell_type": "code",
   "execution_count": 9,
   "metadata": {},
   "outputs": [
    {
     "name": "stdout",
     "output_type": "stream",
     "text": [
      "1. get_enough_data ing...\n",
      "进度： 0 / 10\n",
      "进度： 1 / 10\n",
      "进度： 2 / 10\n",
      "进度： 3 / 10\n",
      "进度： 4 / 10\n",
      "进度： 5 / 10\n",
      "进度： 6 / 10\n",
      "进度： 7 / 10\n",
      "进度： 8 / 10\n",
      "进度： 9 / 10\n",
      "进度： 10 / 10\n",
      "\n",
      "\n",
      "2. get_url_title ing...\n",
      "\n",
      "3. get_data_by_loc ing...\n",
      "\n",
      "[{'url': 'https://www.douban.com/group/topic/130281379/', 'title': '独立次卧- 2300-邻六道口地铁站-限女生1枚—-正规两居--邻北航-农大-北语-北科-林大-西土城-五道口-学院路-学清路'}, {'url': 'https://www.douban.com/group/topic/130131869/', 'title': '【个人出租】13号线 五道口 地质大学家属区 1700'}, {'url': 'https://www.douban.com/group/topic/130203032/', 'title': '求同屋女室友，五道口六道口双清路学知园清华林大地大附近都可'}, {'url': 'https://www.douban.com/group/topic/127638587/', 'title': '出租_朝南次卧～五道口六道口学院路13号线15号线'}]\n",
      "[{\"url\": \"https://www.douban.com/group/topic/130281379/\", \"title\": \"\\u72ec\\u7acb\\u6b21\\u5367- 2300-\\u90bb\\u516d\\u9053\\u53e3\\u5730\\u94c1\\u7ad9-\\u9650\\u5973\\u751f1\\u679a\\u2014-\\u6b63\\u89c4\\u4e24\\u5c45--\\u90bb\\u5317\\u822a-\\u519c\\u5927-\\u5317\\u8bed-\\u5317\\u79d1-\\u6797\\u5927-\\u897f\\u571f\\u57ce-\\u4e94\\u9053\\u53e3-\\u5b66\\u9662\\u8def-\\u5b66\\u6e05\\u8def\"}, {\"url\": \"https://www.douban.com/group/topic/130131869/\", \"title\": \"\\u3010\\u4e2a\\u4eba\\u51fa\\u79df\\u301113\\u53f7\\u7ebf \\u4e94\\u9053\\u53e3 \\u5730\\u8d28\\u5927\\u5b66\\u5bb6\\u5c5e\\u533a 1700\"}, {\"url\": \"https://www.douban.com/group/topic/130203032/\", \"title\": \"\\u6c42\\u540c\\u5c4b\\u5973\\u5ba4\\u53cb\\uff0c\\u4e94\\u9053\\u53e3\\u516d\\u9053\\u53e3\\u53cc\\u6e05\\u8def\\u5b66\\u77e5\\u56ed\\u6e05\\u534e\\u6797\\u5927\\u5730\\u5927\\u9644\\u8fd1\\u90fd\\u53ef\"}, {\"url\": \"https://www.douban.com/group/topic/127638587/\", \"title\": \"\\u51fa\\u79df_\\u671d\\u5357\\u6b21\\u5367\\uff5e\\u4e94\\u9053\\u53e3\\u516d\\u9053\\u53e3\\u5b66\\u9662\\u8def13\\u53f7\\u7ebf15\\u53f7\\u7ebf\"}]\n"
     ]
    }
   ],
   "source": [
    "if __name__ == \"__main__\":\n",
    "    spider = Splider_douban(url = \"https://www.douban.com/group/beijingzufang/discussion?start=\")\n",
    "    raw_data = spider.get_enough_data(page_num=10, page_begin=0)\n",
    "    # raw_data = spider.get_enough_data(page_num=100)\n",
    "\n",
    "    data_processed = spider.get_url_title(raw_data)\n",
    "\n",
    "    res = spider.get_data_by_loc(data_processed, loc=\"五道口\")\n",
    "    spider.save2file(res)\n",
    "    print(res)\n",
    "    print(json.dumps(res))"
   ]
  },
  {
   "cell_type": "code",
   "execution_count": null,
   "metadata": {
    "collapsed": true
   },
   "outputs": [],
   "source": []
  }
 ],
 "metadata": {
  "kernelspec": {
   "display_name": "Python 3",
   "language": "python",
   "name": "python3"
  },
  "language_info": {
   "codemirror_mode": {
    "name": "ipython",
    "version": 3
   },
   "file_extension": ".py",
   "mimetype": "text/x-python",
   "name": "python",
   "nbconvert_exporter": "python",
   "pygments_lexer": "ipython3",
   "version": "3.6.2"
  }
 },
 "nbformat": 4,
 "nbformat_minor": 2
}
